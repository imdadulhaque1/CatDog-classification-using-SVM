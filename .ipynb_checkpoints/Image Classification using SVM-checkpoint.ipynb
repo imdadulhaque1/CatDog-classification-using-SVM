{
 "cells": [
  {
   "cell_type": "code",
   "execution_count": 10,
   "metadata": {},
   "outputs": [],
   "source": [
    "import os\n",
    "import numpy as np\n",
    "import cv2\n",
    "import matplotlib.pyplot as plt\n",
    "import pickle\n",
    "#end of converting pickle dataset\n",
    "\n",
    "import random\n",
    "from sklearn.model_selection import train_test_split\n",
    "\n",
    "#classification using SVC\n",
    "from sklearn.svm import SVC"
   ]
  },
  {
   "cell_type": "markdown",
   "metadata": {},
   "source": [
    "# Dataset directory define for converting into pickle dataset"
   ]
  },
  {
   "cell_type": "code",
   "execution_count": 2,
   "metadata": {},
   "outputs": [],
   "source": [
    "dir = \"catDog\"\n",
    "categories=['cat','dog']\n",
    "data = []"
   ]
  },
  {
   "cell_type": "markdown",
   "metadata": {},
   "source": [
    "# Image dataset convert into pickle data file"
   ]
  },
  {
   "cell_type": "code",
   "execution_count": 5,
   "metadata": {},
   "outputs": [],
   "source": [
    "for category in categories:\n",
    "    path = os.path.join(dir,category)\n",
    "    label = categories.index(category)\n",
    "    \n",
    "    for img in os.listdir(path):\n",
    "        imgpath=os.path.join(path,img)\n",
    "        pet_img = cv2.imread(imgpath,0)\n",
    "        try:\n",
    "            pet_img =cv2.resize(pet_img,(50,50))\n",
    "            image= np.array(pet_img).flatten()\n",
    "            data.append([image,label])\n",
    "            #cv2.imshow('image',pet_img)\n",
    "        except Exception as e:\n",
    "            pass\n",
    "\n",
    "# print(len(data))\n",
    "pick_in=open('data1.pickle','wb')\n",
    "pickle.dump(data,pick_in)\n",
    "pick_in.close()\n",
    "# cv2.waitKey(0)\n",
    "# cv2.destroyAllWindows()"
   ]
  },
  {
   "cell_type": "markdown",
   "metadata": {},
   "source": [
    "# Pickle data collection"
   ]
  },
  {
   "cell_type": "code",
   "execution_count": 7,
   "metadata": {},
   "outputs": [],
   "source": [
    "pick_in = open('data1.pickle','rb')\n",
    "data = pickle.load(pick_in)\n",
    "pick_in.close()"
   ]
  },
  {
   "cell_type": "markdown",
   "metadata": {},
   "source": [
    "# Data prepared"
   ]
  },
  {
   "cell_type": "code",
   "execution_count": 8,
   "metadata": {},
   "outputs": [],
   "source": [
    "random.shuffle(data)\n",
    "features = []\n",
    "labels = []"
   ]
  },
  {
   "cell_type": "code",
   "execution_count": 9,
   "metadata": {},
   "outputs": [],
   "source": [
    "for feature, label in data:\n",
    "    features.append(feature)\n",
    "    labels.append(label)"
   ]
  },
  {
   "cell_type": "markdown",
   "metadata": {},
   "source": [
    "# Split the dataset"
   ]
  },
  {
   "cell_type": "code",
   "execution_count": 11,
   "metadata": {},
   "outputs": [],
   "source": [
    "xtrain, xtest, ytrain, ytest= train_test_split(features, labels, test_size= 0.25)"
   ]
  },
  {
   "cell_type": "markdown",
   "metadata": {},
   "source": [
    "# SVM classification model build up"
   ]
  },
  {
   "cell_type": "code",
   "execution_count": 26,
   "metadata": {},
   "outputs": [],
   "source": [
    "model = SVC(C=1, kernel='poly',gamma='auto')\n",
    "model.fit(xtrain,ytrain)\n",
    "\n",
    "pick = open('medel.sav','wb')    #pickle file save as \"medel.sav\" based on webserver \n",
    "pickle.dump(model,pick)\n",
    "pick.close()\n",
    "\n",
    "# prediction = model.predict(xtest)\n",
    "# accuracy = model.score(xtest,ytest)\n",
    "\n",
    "# categories=['cat','dog']\n",
    "# print(\"Accuracy: \",accuracy)\n",
    "# print(\"Prediction is: \",categories[prediction[0]])\n",
    "\n",
    "# mypet = xtest[30].reshape(50,50)\n",
    "# plt.imshow(mypet,cmap='gray')\n",
    "# plt.show()"
   ]
  },
  {
   "cell_type": "code",
   "execution_count": 30,
   "metadata": {},
   "outputs": [
    {
     "name": "stdout",
     "output_type": "stream",
     "text": [
      "Accuracy:  0.9846153846153847\n",
      "Prediction is:  cat\n"
     ]
    },
    {
     "data": {
      "image/png": "[encoded data removed]",
      "text/plain": [
       "<Figure size 432x288 with 1 Axes>"
      ]
     },
     "metadata": {
      "needs_background": "light"
     },
     "output_type": "display_data"
    }
   ],
   "source": [
    "xtrain, xtest, ytrain, ytest= train_test_split(features, labels, test_size= 0.50)\n",
    "pick = open('medel.sav','rb')      #Read the \"medel.sav\" file\n",
    "model=pickle.load(pick)\n",
    "pick.close()\n",
    "\n",
    "prediction = model.predict(xtest)\n",
    "accuracy = model.score(xtest,ytest)\n",
    "\n",
    "categories=['cat','dog']\n",
    "print(\"Accuracy: \",accuracy)\n",
    "print(\"Prediction is: \",categories[prediction[0]])\n",
    "\n",
    "mypet = xtest[0].reshape(50,50)\n",
    "plt.imshow(mypet,cmap='gray')\n",
    "plt.show()"
   ]
  },
  {
   "cell_type": "code",
   "execution_count": null,
   "metadata": {},
   "outputs": [],
   "source": []
  }
 ],
 "metadata": {
  "kernelspec": {
   "display_name": "Python 3",
   "language": "python",
   "name": "python3"
  },
  "language_info": {
   "codemirror_mode": {
    "name": "ipython",
    "version": 3
   },
   "file_extension": ".py",
   "mimetype": "text/x-python",
   "name": "python",
   "nbconvert_exporter": "python",
   "pygments_lexer": "ipython3",
   "version": "3.8.3"
  }
 },
 "nbformat": 4,
 "nbformat_minor": 4
}
